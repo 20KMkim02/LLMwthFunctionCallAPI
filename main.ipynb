{
 "cells": [
  {
   "cell_type": "markdown",
   "metadata": {},
   "source": [
    "## Import Important LIB"
   ]
  },
  {
   "cell_type": "code",
   "execution_count": 48,
   "metadata": {},
   "outputs": [],
   "source": [
    "import os\n",
    "from azure.ai.inference import ChatCompletionsClient\n",
    "from azure.ai.inference.models import SystemMessage, UserMessage\n",
    "from azure.core.credentials import AzureKeyCredential\n",
    "import json\n",
    "from langchain.prompts import ChatPromptTemplate\n",
    "from langchain.chat_models import AzureChatOpenAI #ต้องเป็นAzureChatOpenAI\n",
    "from langchain.chains import LLMChain\n",
    "from langchain.schema.output_parser import StrOutputParser\n",
    "from langchain.agents.output_parsers import OpenAIFunctionsAgentOutputParser"
   ]
  },
  {
   "cell_type": "code",
   "execution_count": 49,
   "metadata": {},
   "outputs": [],
   "source": [
    "from azure.ai.inference.models import (\n",
    "    ChatCompletionsToolDefinition,\n",
    "    FunctionDefinition,\n",
    "    UserMessage,\n",
    ")"
   ]
  },
  {
   "cell_type": "markdown",
   "metadata": {},
   "source": [
    "## Test api calling"
   ]
  },
  {
   "cell_type": "code",
   "execution_count": 50,
   "metadata": {},
   "outputs": [
    {
     "name": "stdout",
     "output_type": "stream",
     "text": [
      "[{'Title': 'Harry potter', 'Description': 'magical school and education beginner to flying bloom', 'Price': 999.0, 'Type': 'Fantasy', 'InStock': 47, 'id': 1}] <class 'list'>\n",
      "Books found:\n",
      "ID: 1, Title: Harry potter, Price: 999.0\n"
     ]
    }
   ],
   "source": [
    "import requests\n",
    "\n",
    "# Define the FastAPI base URL\n",
    "BASE_URL = \"http://127.0.0.1:8000\"  # Change if hosted elsewhere\n",
    "\n",
    "# Search for books with \"Harry\" in the title\n",
    "query = \"Harry\"\n",
    "response = requests.get(f\"{BASE_URL}/items/\", params={\"query\": query})\n",
    "\n",
    "# Check if the request was successful\n",
    "if response.status_code == 200:\n",
    "    items = response.json()\n",
    "    print(items,type(items))\n",
    "    if items:\n",
    "        print(\"Books found:\")\n",
    "        for item in items:\n",
    "            print(f\"ID: {item['id']}, Title: {item['Title']}, Price: {item['Price']}\")\n",
    "    else:\n",
    "        print(\"No books found with the given name.\")\n",
    "else:\n",
    "    print(f\"Error: {response.status_code}, {response.text}\")\n"
   ]
  },
  {
   "cell_type": "markdown",
   "metadata": {},
   "source": [
    "## Define Function call > Tools"
   ]
  },
  {
   "cell_type": "code",
   "execution_count": 51,
   "metadata": {},
   "outputs": [],
   "source": [
    "from langchain.tools import tool"
   ]
  },
  {
   "cell_type": "code",
   "execution_count": 52,
   "metadata": {},
   "outputs": [],
   "source": [
    "@tool\n",
    "def get_overall_temp(location, unit=\"celsius\"):\n",
    "    \"\"\"Get the current weather in a given location\"\"\"\n",
    "    weather_info = {\n",
    "        \"location\": location,\n",
    "        \"temperature\": \"32\",\n",
    "        \"unit\": unit,\n",
    "        \"forecast\": [\"sunny\", \"windy\"],\n",
    "    }\n",
    "    return json.dumps(weather_info)"
   ]
  },
  {
   "cell_type": "code",
   "execution_count": 53,
   "metadata": {},
   "outputs": [],
   "source": [
    "import requests\n",
    "@tool\n",
    "def get_book_detail(book_name,unit='Baht'):\n",
    "    \"\"\"Get the book detail like price and amount of book in the stock \"\"\"\n",
    "    BASE_URL = \"http://127.0.0.1:8000\"\n",
    "    response = requests.get(f\"{BASE_URL}/items/\", params={\"query\": book_name})\n",
    "    if response.status_code == 200:\n",
    "        items = response.json()\n",
    "        if items:\n",
    "            print(\"Books found:\")\n",
    "            for item in items:\n",
    "                print(f\"ID: {item['id']}, Title: {item['Title']}, Price: {item['Price']}\")\n",
    "            item_title=items[0]['Title']\n",
    "            item_instock=items[0]['InStock']\n",
    "            item_price=items[0]['Price']\n",
    "        else:\n",
    "            print(\"No books found with the given name.\")\n",
    "            \n",
    "    else:\n",
    "        print(f\"Error: {response.status_code}, {response.text}\")\n",
    "                # book_detail={\n",
    "                #     \"title\": item['id'],\n",
    "                #     \"type\":f\"{response.type}\",\n",
    "                #     \"instock\":f\"{response.Instock}\",\n",
    "                #     \"price\":f\"{response.price}\"\n",
    "                # }\n",
    "    return f'The book {item_title} are currently {item_instock} available instock \\n the price of this book is {item_price}'"
   ]
  },
  {
   "cell_type": "markdown",
   "metadata": {},
   "source": [
    "## Chat Template"
   ]
  },
  {
   "cell_type": "code",
   "execution_count": 54,
   "metadata": {},
   "outputs": [],
   "source": [
    "# get_temp = ChatCompletionsToolDefinition(\n",
    "#     function=FunctionDefinition(\n",
    "#         name=\"get_temp\",\n",
    "#         description=\"\"\"Return Overall temperature of that location \"\"\",\n",
    "#         parameters={\n",
    "#             \"type\": \"object\",\n",
    "#             \"properties\": {\n",
    "#                 \"location\": {\n",
    "#                     \"type\": \"string\",\n",
    "#                     \"description\": \"The city and state, e.g. San Francisco, CA\",\n",
    "#                 },\n",
    "#                 \"Unit\": {\n",
    "#                     \"type\": \"string\",\n",
    "#                     \"enum\": [\"celsius\", \"fahrenheit\"],\n",
    "#                 },\n",
    "#             },\n",
    "#             \"required\": [\"location\"],\n",
    "#         },\n",
    "#     )\n",
    "# )"
   ]
  },
  {
   "cell_type": "code",
   "execution_count": 55,
   "metadata": {},
   "outputs": [],
   "source": [
    "# get_book_info = ChatCompletionsToolDefinition(\n",
    "#     function=FunctionDefinition(\n",
    "#         name=\"get_book_detail\",\n",
    "#         description=\"\"\"Return description of that book \"\"\",\n",
    "#         parameters={\n",
    "#             \"type\": \"object\",\n",
    "#             \"properties\": {\n",
    "#                 \"Bookname\": {\n",
    "#                     \"type\": \"string\",\n",
    "#                     \"description\": \"The unique name that is book name\",\n",
    "#                 },\n",
    "#                 \"Unit\": {\n",
    "#                     \"type\": \"string\",\n",
    "#                     \"enum\": [\"baht\"]\n",
    "#                 },\n",
    "#             },\n",
    "#             \"required\": [\"Bookname\"],\n",
    "#         },\n",
    "#     )\n",
    "# )"
   ]
  },
  {
   "cell_type": "markdown",
   "metadata": {},
   "source": [
    "## Tools"
   ]
  },
  {
   "cell_type": "code",
   "execution_count": 56,
   "metadata": {},
   "outputs": [],
   "source": [
    "tools=[get_book_detail,get_overall_temp]"
   ]
  },
  {
   "cell_type": "markdown",
   "metadata": {},
   "source": [
    "## Chain"
   ]
  },
  {
   "cell_type": "code",
   "execution_count": 57,
   "metadata": {},
   "outputs": [],
   "source": [
    "from langchain.chat_models import ChatOpenAI\n",
    "from langchain.prompts import ChatPromptTemplate\n",
    "from langchain.tools.render import format_tool_to_openai_function\n",
    "from langchain.agents.output_parsers import OpenAIFunctionsAgentOutputParser"
   ]
  },
  {
   "cell_type": "markdown",
   "metadata": {},
   "source": [
    "Convert tools to openai format"
   ]
  },
  {
   "cell_type": "code",
   "execution_count": 58,
   "metadata": {},
   "outputs": [],
   "source": [
    "functions = [format_tool_to_openai_function(f) for f in tools]"
   ]
  },
  {
   "cell_type": "markdown",
   "metadata": {},
   "source": [
    "## Model initial"
   ]
  },
  {
   "cell_type": "code",
   "execution_count": 59,
   "metadata": {},
   "outputs": [],
   "source": [
    "endpoint = \"https://models.inference.ai.azure.com\"\n",
    "model_name = \"gpt-4o-mini\"\n",
    "token = os.environ[\"GITHUB_TOKEN\"]"
   ]
  },
  {
   "cell_type": "markdown",
   "metadata": {},
   "source": [
    "Note : การสร้างModel OpenAI จาก Azure ต้องทำตามแบบนี้ พวกparameterจุกจิกพวกนี้หมดเลย"
   ]
  },
  {
   "cell_type": "code",
   "execution_count": 124,
   "metadata": {},
   "outputs": [
    {
     "name": "stderr",
     "output_type": "stream",
     "text": [
      "/Library/Frameworks/Python.framework/Versions/3.11/lib/python3.11/site-packages/langchain_community/chat_models/azure_openai.py:174: UserWarning: As of openai>=1.0.0, Azure endpoints should be specified via the `azure_endpoint` param not `openai_api_base` (or alias `base_url`). Updating `openai_api_base` from https://models.inference.ai.azure.com to https://models.inference.ai.azure.com/openai.\n",
      "  warnings.warn(\n"
     ]
    }
   ],
   "source": [
    "# Azzure เขียนการinit model แบบนี้ไม่ได้/ ลองเปลี่ยนเป็น AzureChatOpenAI ก็ไม่ได้\n",
    "# model = ChatOpenAI(temperature=0).bind(functions=functions)\n",
    "model = AzureChatOpenAI(\n",
    "    openai_api_key=token,\n",
    "    openai_api_base=endpoint,\n",
    "    model=model_name,\n",
    "    openai_api_version=\"2023-03-15-preview\",\n",
    "    temperature=0\n",
    ").bind(functions=functions)\n",
    "\n",
    "prompt = ChatPromptTemplate.from_messages([\n",
    "    (\"system\", \"You are helpful but sassy assistant\"),\n",
    "    (\"user\", \"{input}\"),\n",
    "])\n",
    "chain = prompt | model | OpenAIFunctionsAgentOutputParser()"
   ]
  },
  {
   "cell_type": "code",
   "execution_count": 125,
   "metadata": {},
   "outputs": [],
   "source": [
    "result = chain.invoke({\"input\": \"what is the weather is sf?\"})"
   ]
  },
  {
   "cell_type": "code",
   "execution_count": 126,
   "metadata": {},
   "outputs": [
    {
     "data": {
      "text/plain": [
       "'get_overall_temp'"
      ]
     },
     "execution_count": 126,
     "metadata": {},
     "output_type": "execute_result"
    }
   ],
   "source": [
    "result.tool"
   ]
  },
  {
   "cell_type": "code",
   "execution_count": 127,
   "metadata": {},
   "outputs": [
    {
     "data": {
      "text/plain": [
       "{'location': 'San Francisco'}"
      ]
     },
     "execution_count": 127,
     "metadata": {},
     "output_type": "execute_result"
    }
   ],
   "source": [
    "result.tool_input"
   ]
  },
  {
   "cell_type": "code",
   "execution_count": 128,
   "metadata": {},
   "outputs": [
    {
     "data": {
      "text/plain": [
       "AgentActionMessageLog(tool='get_book_detail', tool_input={'book_name': 'Wan thong'}, log=\"\\nInvoking: `get_book_detail` with `{'book_name': 'Wan thong'}`\\n\\n\\n\", message_log=[AIMessage(content='', additional_kwargs={'function_call': {'arguments': '{\"book_name\":\"Wan thong\"}', 'name': 'get_book_detail'}}, response_metadata={'token_usage': {'completion_tokens': 17, 'prompt_tokens': 118, 'total_tokens': 135, 'completion_tokens_details': {'accepted_prediction_tokens': 0, 'audio_tokens': 0, 'reasoning_tokens': 0, 'rejected_prediction_tokens': 0}, 'prompt_tokens_details': {'audio_tokens': 0, 'cached_tokens': 0}}, 'model_name': 'gpt-4o-mini-2024-07-18', 'system_fingerprint': 'fp_5154047bf2', 'finish_reason': 'function_call', 'logprobs': None}, id='run-f6a330e0-a8b8-4e8e-a19e-c8a139ac71ba-0')])"
      ]
     },
     "execution_count": 128,
     "metadata": {},
     "output_type": "execute_result"
    }
   ],
   "source": [
    "result = chain.invoke({\"input\": \"I want more information of book name Wan thong\"})\n",
    "result"
   ]
  },
  {
   "cell_type": "code",
   "execution_count": 129,
   "metadata": {},
   "outputs": [
    {
     "data": {
      "text/plain": [
       "'get_book_detail'"
      ]
     },
     "execution_count": 129,
     "metadata": {},
     "output_type": "execute_result"
    }
   ],
   "source": [
    "result.tool"
   ]
  },
  {
   "cell_type": "code",
   "execution_count": 130,
   "metadata": {},
   "outputs": [
    {
     "data": {
      "text/plain": [
       "{'book_name': 'Wan thong'}"
      ]
     },
     "execution_count": 130,
     "metadata": {},
     "output_type": "execute_result"
    }
   ],
   "source": [
    "result.tool_input"
   ]
  },
  {
   "cell_type": "code",
   "execution_count": 100,
   "metadata": {},
   "outputs": [
    {
     "data": {
      "text/plain": [
       "'Well, hello there! What can I do for you today?'"
      ]
     },
     "execution_count": 100,
     "metadata": {},
     "output_type": "execute_result"
    }
   ],
   "source": [
    "result=chain.invoke('Hi')\n",
    "result.return_values['output']"
   ]
  },
  {
   "cell_type": "markdown",
   "metadata": {},
   "source": [
    "<span style=\"color:#fc4c75\">บรรทัดด้านล่างควรรันแล้ว error เพราะมันเรียกดูTool แต่คำสั่งไม่จำเป็นต้องใช้Tool</span>"
   ]
  },
  {
   "cell_type": "code",
   "execution_count": 102,
   "metadata": {},
   "outputs": [
    {
     "ename": "AttributeError",
     "evalue": "'AgentFinish' object has no attribute 'tool'",
     "output_type": "error",
     "traceback": [
      "\u001b[0;31m---------------------------------------------------------------------------\u001b[0m",
      "\u001b[0;31mAttributeError\u001b[0m                            Traceback (most recent call last)",
      "Cell \u001b[0;32mIn[102], line 1\u001b[0m\n\u001b[0;32m----> 1\u001b[0m \u001b[43mresult\u001b[49m\u001b[38;5;241;43m.\u001b[39;49m\u001b[43mtool\u001b[49m\n",
      "File \u001b[0;32m/Library/Frameworks/Python.framework/Versions/3.11/lib/python3.11/site-packages/pydantic/main.py:891\u001b[0m, in \u001b[0;36mBaseModel.__getattr__\u001b[0;34m(self, item)\u001b[0m\n\u001b[1;32m    888\u001b[0m     \u001b[38;5;28;01mreturn\u001b[39;00m \u001b[38;5;28msuper\u001b[39m()\u001b[38;5;241m.\u001b[39m\u001b[38;5;21m__getattribute__\u001b[39m(item)  \u001b[38;5;66;03m# Raises AttributeError if appropriate\u001b[39;00m\n\u001b[1;32m    889\u001b[0m \u001b[38;5;28;01melse\u001b[39;00m:\n\u001b[1;32m    890\u001b[0m     \u001b[38;5;66;03m# this is the current error\u001b[39;00m\n\u001b[0;32m--> 891\u001b[0m     \u001b[38;5;28;01mraise\u001b[39;00m \u001b[38;5;167;01mAttributeError\u001b[39;00m(\u001b[38;5;124mf\u001b[39m\u001b[38;5;124m'\u001b[39m\u001b[38;5;132;01m{\u001b[39;00m\u001b[38;5;28mtype\u001b[39m(\u001b[38;5;28mself\u001b[39m)\u001b[38;5;241m.\u001b[39m\u001b[38;5;18m__name__\u001b[39m\u001b[38;5;132;01m!r}\u001b[39;00m\u001b[38;5;124m object has no attribute \u001b[39m\u001b[38;5;132;01m{\u001b[39;00mitem\u001b[38;5;132;01m!r}\u001b[39;00m\u001b[38;5;124m'\u001b[39m)\n",
      "\u001b[0;31mAttributeError\u001b[0m: 'AgentFinish' object has no attribute 'tool'"
     ]
    }
   ],
   "source": [
    "result.tool"
   ]
  },
  {
   "cell_type": "code",
   "execution_count": 131,
   "metadata": {},
   "outputs": [],
   "source": [
    "from langchain.prompts import MessagesPlaceholder\n",
    "prompt = ChatPromptTemplate.from_messages([\n",
    "    (\"system\", \"You are helpful but sassy assistant\"),\n",
    "    (\"user\", \"{input}\"),\n",
    "    MessagesPlaceholder(variable_name=\"agent_scratchpad\")\n",
    "])"
   ]
  },
  {
   "cell_type": "code",
   "execution_count": 132,
   "metadata": {},
   "outputs": [],
   "source": [
    "chain = prompt | model | OpenAIFunctionsAgentOutputParser()"
   ]
  },
  {
   "cell_type": "code",
   "execution_count": 134,
   "metadata": {},
   "outputs": [
    {
     "name": "stdout",
     "output_type": "stream",
     "text": [
      "tool='get_book_detail' tool_input={'book_name': 'Wan thong'} log=\"\\nInvoking: `get_book_detail` with `{'book_name': 'Wan thong'}`\\n\\n\\n\" message_log=[AIMessage(content='', additional_kwargs={'function_call': {'arguments': '{\"book_name\":\"Wan thong\"}', 'name': 'get_book_detail'}}, response_metadata={'token_usage': {'completion_tokens': 17, 'prompt_tokens': 118, 'total_tokens': 135, 'completion_tokens_details': {'accepted_prediction_tokens': 0, 'audio_tokens': 0, 'reasoning_tokens': 0, 'rejected_prediction_tokens': 0}, 'prompt_tokens_details': {'audio_tokens': 0, 'cached_tokens': 0}}, 'model_name': 'gpt-4o-mini-2024-07-18', 'system_fingerprint': 'fp_5154047bf2', 'finish_reason': 'function_call', 'logprobs': None}, id='run-0f7eab1e-aeaa-454b-8e94-9a16ec68dc85-0')]\n"
     ]
    }
   ],
   "source": [
    "# what is the weather is sf\n",
    "# I want more information of book name Wan thong\n",
    "result1 = chain.invoke({\n",
    "    \"input\": \"I want more information of book name Wan thong\",\n",
    "    \"agent_scratchpad\": []\n",
    "})\n",
    "print(result1)"
   ]
  },
  {
   "cell_type": "code",
   "execution_count": 135,
   "metadata": {},
   "outputs": [
    {
     "name": "stdout",
     "output_type": "stream",
     "text": [
      "Books found:\n",
      "ID: 2, Title: Wan Thong, Price: 20.0\n"
     ]
    },
    {
     "data": {
      "text/plain": [
       "'The book Wan Thong are currently 888 available instock \\n the price of this book is 20.0'"
      ]
     },
     "execution_count": 135,
     "metadata": {},
     "output_type": "execute_result"
    }
   ],
   "source": [
    "# observation = get_overall_temp(result1.tool_input)\n",
    "observation = get_book_detail(result1.tool_input)\n",
    "observation"
   ]
  },
  {
   "cell_type": "code",
   "execution_count": 136,
   "metadata": {},
   "outputs": [
    {
     "data": {
      "text/plain": [
       "[AIMessage(content='', additional_kwargs={'function_call': {'arguments': '{\"book_name\":\"Wan thong\"}', 'name': 'get_book_detail'}}, response_metadata={'token_usage': {'completion_tokens': 17, 'prompt_tokens': 118, 'total_tokens': 135, 'completion_tokens_details': {'accepted_prediction_tokens': 0, 'audio_tokens': 0, 'reasoning_tokens': 0, 'rejected_prediction_tokens': 0}, 'prompt_tokens_details': {'audio_tokens': 0, 'cached_tokens': 0}}, 'model_name': 'gpt-4o-mini-2024-07-18', 'system_fingerprint': 'fp_5154047bf2', 'finish_reason': 'function_call', 'logprobs': None}, id='run-0f7eab1e-aeaa-454b-8e94-9a16ec68dc85-0'),\n",
       " FunctionMessage(content='The book Wan Thong are currently 888 available instock \\n the price of this book is 20.0', additional_kwargs={}, response_metadata={}, name='get_book_detail')]"
      ]
     },
     "execution_count": 136,
     "metadata": {},
     "output_type": "execute_result"
    }
   ],
   "source": [
    "from langchain.agents.format_scratchpad import format_to_openai_functions\n",
    "format_to_openai_functions([(result1, observation), ])"
   ]
  },
  {
   "cell_type": "code",
   "execution_count": 138,
   "metadata": {},
   "outputs": [
    {
     "data": {
      "text/plain": [
       "AgentFinish(return_values={'output': 'The book \"Wan Thong\" is currently in stock with 888 copies available. You can grab it for just 20 Baht. Happy reading! 📚✨'}, log='The book \"Wan Thong\" is currently in stock with 888 copies available. You can grab it for just 20 Baht. Happy reading! 📚✨')"
      ]
     },
     "execution_count": 138,
     "metadata": {},
     "output_type": "execute_result"
    }
   ],
   "source": [
    "# what is the weather is sf?\n",
    "# I want more information of book name Wan thong\n",
    "result2 = chain.invoke({\n",
    "    \"input\": \"I want more information of book name Wan thong\", \n",
    "    \"agent_scratchpad\": format_to_openai_functions([(result1, observation)])\n",
    "})\n",
    "result2"
   ]
  },
  {
   "cell_type": "markdown",
   "metadata": {},
   "source": [
    "<span style=\"color:#dbbd5a\">จากข้างบน สามารถสรุปได้ว่า</span> \n",
    "1. พอเราส่ง prompt ของเราเข้าไป มันจะเอาไปประมวลผ่านLLMก่อนว่าจะเรียกใช้ Agent/Tools ดีไหม\n",
    "2. สมมุติว่ามันไม่จำเป็นต้องเรียกใช้ Agent มันจะเข้าสู่ State AgentFinish ซึ่งแปลว่าถ้าเรา print result ก็จะได้สิ่งที่มันไปประมวลผ่าน LLMมาเลยทันที\n",
    "3. ถ้ามันเกิดว่าต้องใช้ Agent มันจะมีพวกKeyword ที่ทำให้มันรู้ว่า ต้องใช้Keyword นี้แหละ ไปเรียกใช้ LLM จากการDefine tools ขอวงเรา เช่นพวกชื่อสถานที่ ชื่อหนังสือ มันก็จะส่งKeyword พวกนี้เข้าไปในStateถัดไป\n",
    "4. Stateนี้ LLM จะเอาสิ่งที่สกัดมา มาเป็นInput เราเลยต้องสร้่าง Input อีกที โดยผลการประมวลครั้งแรกว่าต้องใช้function call อะไรและfunctioncallจะมีการรับinputอะไรไปบ้าง \n",
    "ถูกเก็บในตัวแปล agent_scratchpad\n",
    "5. เรียกใช้ func. call เพื่อให้ได้ observation ,ผลจากการรัน function call\n",
    "6. format_to_openai_functions เป็นการเปลี่ยนผลการรันเป็นสิ่งที่ LLM จะตอบกลับไปเป็นภาษาคนได้"
   ]
  },
  {
   "cell_type": "markdown",
   "metadata": {},
   "source": [
    "## Auto Selection Tools "
   ]
  },
  {
   "cell_type": "markdown",
   "metadata": {},
   "source": [
    "เป็นการสร้าง funciton เพื่อให้ return ผลการประมวลจาก LLM ถ้ามันเข้าphase AgentFinish แต่ถ้ายังก็เข้า tools จนกว่าจะได้ผล"
   ]
  },
  {
   "cell_type": "code",
   "execution_count": 119,
   "metadata": {},
   "outputs": [],
   "source": [
    "# ตัวนี้ไม่ได้ใช้\n",
    "# from langchain.schema.agent import AgentFinish\n",
    "# def run_agent(user_input):\n",
    "#     intermediate_steps = []\n",
    "#     while True:\n",
    "#         result = chain.invoke({\n",
    "#             \"input\": user_input, \n",
    "#             \"agent_scratchpad\": format_to_openai_functions(intermediate_steps)\n",
    "#         })\n",
    "#         if isinstance(result, AgentFinish):\n",
    "#             return result\n",
    "#         tool = {\n",
    "#             \"get_book_detail\": get_book_detail, \n",
    "#             \"get_overall_temp\": get_overall_temp,\n",
    "#         }[result.tool]\n",
    "#         observation = tool.run(result.tool_input)\n",
    "#         intermediate_steps.append((result, observation))"
   ]
  },
  {
   "cell_type": "markdown",
   "metadata": {},
   "source": []
  },
  {
   "cell_type": "code",
   "execution_count": 140,
   "metadata": {},
   "outputs": [],
   "source": [
    "from langchain.schema.agent import AgentFinish"
   ]
  },
  {
   "cell_type": "code",
   "execution_count": 157,
   "metadata": {},
   "outputs": [],
   "source": [
    "def run_agent(user_input):\n",
    "    intermediate_steps = []\n",
    "    while True:\n",
    "        result = agent_chain.invoke({\n",
    "            \"input\": user_input, \n",
    "            \"intermediate_steps\": intermediate_steps\n",
    "        })\n",
    "        if isinstance(result, AgentFinish):\n",
    "            output_text = result.return_values['output']\n",
    "            return output_text\n",
    "        tool = {\n",
    "            \"get_book_detail\": get_book_detail, \n",
    "            \"get_overall_temp\": get_overall_temp,\n",
    "        }[result.tool]\n",
    "        observation = tool.run(result.tool_input)\n",
    "        intermediate_steps.append((result, observation))"
   ]
  },
  {
   "cell_type": "code",
   "execution_count": 160,
   "metadata": {},
   "outputs": [],
   "source": [
    "from IPython.display import display, Markdown"
   ]
  },
  {
   "cell_type": "code",
   "execution_count": 161,
   "metadata": {},
   "outputs": [
    {
     "data": {
      "text/markdown": [
       "The weather in San Francisco is a sizzling 32°C, and it's sunny and windy. Don't forget your sunglasses and maybe a light jacket for that breeze! 🌞💨"
      ],
      "text/plain": [
       "<IPython.core.display.Markdown object>"
      ]
     },
     "metadata": {},
     "output_type": "display_data"
    }
   ],
   "source": [
    "display(Markdown(run_agent(\"what is the weather is sf?\")))"
   ]
  },
  {
   "cell_type": "code",
   "execution_count": null,
   "metadata": {},
   "outputs": [
    {
     "name": "stdout",
     "output_type": "stream",
     "text": [
      "Books found:\n",
      "ID: 1, Title: Harry potter, Price: 999.0\n"
     ]
    },
    {
     "data": {
      "text/markdown": [
       "The book you're looking for is \"Harry Potter.\" Here are the details:\n",
       "\n",
       "- **Price:** 999.0 Baht\n",
       "- **In Stock:** 47 copies available\n",
       "\n",
       "So, if you're a wizard or just a fan of magic, you might want to grab one before they disappear! 🧙‍♂️✨"
      ],
      "text/plain": [
       "<IPython.core.display.Markdown object>"
      ]
     },
     "metadata": {},
     "output_type": "display_data"
    }
   ],
   "source": [
    "display(Markdown(run_agent(\"I want more information of book name Harry \")))"
   ]
  }
 ],
 "metadata": {
  "kernelspec": {
   "display_name": "Python 3",
   "language": "python",
   "name": "python3"
  },
  "language_info": {
   "codemirror_mode": {
    "name": "ipython",
    "version": 3
   },
   "file_extension": ".py",
   "mimetype": "text/x-python",
   "name": "python",
   "nbconvert_exporter": "python",
   "pygments_lexer": "ipython3",
   "version": "3.11.4"
  }
 },
 "nbformat": 4,
 "nbformat_minor": 2
}
