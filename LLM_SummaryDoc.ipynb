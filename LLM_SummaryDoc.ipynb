{
 "cells": [
  {
   "cell_type": "code",
   "execution_count": 11,
   "metadata": {},
   "outputs": [
    {
     "name": "stdout",
     "output_type": "stream",
     "text": [
      "Transcript\n",
      "January 10, 2025, 7:06AM\n",
      "\n",
      "Nuttiya Komyam started transcription\n",
      "\n",
      "kanyarat.c@botnoi   0:03\n",
      "เหมือนกันนะคะแล้วก็คุณเต๋าค่ะคุณกิตติคุณชวกรคุณมดนะคะแล้วก็คุณฟลุ๊คนะคะก็คือเป็นทางทีมuniqalที่ดูพวกหลายไลเซชั่นแล้วก็พวกตัว voice to taxition\n",
      "คะยังไงไม่แน่ใจว่าทางทีมแอลเอชเคยได้บรีฟตัวของบอทคอมพานีโปรไฟล์มาก่อนหรือยังคะ\n",
      "\n",
      "Nuttiya Komyam   0:28\n",
      "มีแล้วค่ะคุณส้ม\n",
      "\n",
      "kanyarat.c@botnoi   0:31\n",
      "อ๋อโอเคโอเค\n",
      "\n",
      "Nuttiya Komyam   0:31\n",
      "ในในresionก่อนหน้าประมาณสองสามรอบเนาะที่เราคุยกันใช่แต่ว่าสําหรับทีมที่เป็น world exectionนะยัง\n",
      "\n",
      "kanyarat.c@botnoi   0:34\n",
      "หันหน้าใช่มั้ย\n",
      "ได้เลยค่ะคือจริงจริงเราก็ได้ได้ไฟล์เสียงมาประมาณช่วงช่วงสักต้นสัปดาห์ได้ใช่ไหมคะก็คือทั้งส้มอ่ะส่งไปให้ทางทีมเขาลองถอดเสียงออกมาดูวันนี้ก็มีตัวรีสอร์ทออกมาให้ดูคร่าวๆนะคะแล้วก็เรื่องของ\n",
      "ตัวของเทคโนโลยีอะค่ะที่วันเนี้ยก็คือก็คือจะมาเล่าให้ฟังว่าเทคโนโลยีอะมันมีอะไรบ้างที่เราทําอยู่นะคะagendaของวันนี้อะค่ะก็มีอยู่ 4 เรื่องค่ะก็คือตัวเทคโนโลยีแล้วก็ตัว company profile นึงตัว show ของเทคโนโลยีเราก็ตัวที่ 3 ก็คือจะเป็น sample resaltนะคะก็คือจริงจริงมันยังไม่ได้เสร็จหมดร้อยเปอร์เซ็นต์นะคะก็คือยังมีการแบบปรับจูนตัวของโมเดลอยู่บ้างนะคะแล้วก็ san จุดขายจะเป็นตัว two and a นะคะ\n",
      "โอเคเดี๋ยวยังไงต้องขอนําเสนอด้วยสไลด์นี้ก่อนละกันนะคะขอคร่าวคร่าวเรื่องของcompanywfyนะคะแล้วก็เดี๋ยวหลังจากจบคอมมูนายจะขออนุญาตreitให้ทางทีมเทคนิคนะคะนําเสนอตัวตัวเทคโนโลยีนะคะโอเคค่ะเออตัวของ b น้อยค่ะอย่างที่ได้คุยกันในข่าววันก่อนว่าโอเคเราก็อยู่ประมาณ 7 ปีนะคะเริ่มจากแชทบอทนะแล้วก็ตอนนี้ก็พัฒนามานะคะมีทั้ง voice นะคะแล้วก็มีการทั้งการใช้พวกแอลเอ็มพวก a i model ต่าง\n",
      "มาช่วยทํา fire todให้ local ตัวของภาษาไทยเนี่ยให้มันregularyสูงขึ้นนะคะ\n",
      "ตัวของเทคโนโลยีของเรานะคะก็คือจะมีโทรแชทบอทตัวเองบอร์ดเป็นหลักเป็นหลักนะคะที่เหลือก็จะเป็นตัว a i as a s service นะคะพวกการใช้ l o m โมเดลการใช้ tool พวก t t t s tech to speed หรือว่า speed tool tech พวกเนี้ยค่ะมามาแชะมาบวกกับตัวของ business นะคะให้มันได้ตัว product ออกมานะคะแล้วก็ตัวสุดท้ายก็จะเป็นเรื่องของการทําเพื่อ data data consultนะคะพวกนั้นก็จะค่อนข้างคาบเกี่ยวนะคะกับการทําพวก as a service มันก็อาจจะมีการ\n",
      "ทําเตรียมเดต้าทําข้อมูลก่อนที่จะเอามาเข้าเอามาพัฒนาต่อนะคะ\n",
      "ตัวของไคลแอ้นท์นะคะเราก็มีตั้งแต่อ่ากลุ่มธุรกิจโรงพยาบาลนะคะกลุ่มธุรกิจการเงินกลุ่มค้าปลีกกลุ่ม energy แล้วก็หน่วยงานรัฐบาลก็มีนะคะจริงจริงหลายหลายเจ้าก็คือใช้เรามาตั้งแต่เป็นแชทบอทเลยนะคะจนตอนนี้ก็ยังมีการ continue การใช้งานอยู่อย่างต่อเนื่องนะคะแล้วก็รวมถึงมีการพัฒนาเริ่มพัฒนาเนี่ยไปใช้พวกของvoicepotแล้วนะคะอย่างที่เรากําลังจะทํา p o c กันที่เป็นตัวของ\n",
      "Voice bot ของทาง a w s นั่นแหละนะคะ\n",
      "เทคโนโลยีพาร์ตเนอร์นะคะเราก็พาร์ทเนอร์ให้กับกับหลายหลายเจ้าเลยแต่ว่าถ้าเป็นเรื่องของอินฟราเนี่ยเราจะอยู่กับเอดับเบิ้ลยูเอสเป็นหลักนะคะก็อย่างที่เราเห็นว่าโอเคเราก็ได้fundingเงินมานะคะแล้วก็ในเรื่องของการเชื่อมต่อนะคะตัวของchatbotเนี่ยหรือ what bot เนี่ยมันก็คือสามารถที่จะexplanออกไปได้นะคะทั้งในแอปพลิเคชันนะคะในไลน์ในเฟซบุ๊กใน whatsapp นะคะก็มีหลากหลายเลยค่ะสามารถที่จะcustomizeได้เพราะว่าเราจริงจริงเรามีทีม\n",
      "ทีมเดฟอะค่ะค่อนข้างเยอะแล้วก็เค้าก็จะ 3ารถที่จะทํางานกับcustomizeได้นะคะตัวของเรื่องของเทคโนโลยีนะคะที่เราพัฒนามามันก็จะมีตัวของ a i เพื่อ voice bot นะคะตัวเนี้ยน่าจะเคยเห็นแล้วเป็นตัวรับรับสายหรือว่าตัวtourออกนะคะเนื้อเสียงเราก็เรียกว่า file to a นะคะให้เสียงมันเป็นเสียงใกล้เคียงกับมนุษย์มากที่สุดนะคะซึ่งอันเนี้ยเราก็กําลังกําลังเดิน process ของ\n",
      "ของการของการทําทําแบบexplantสู่ตลาดนะคะ\n",
      "โอเคทีนี้ค่ะวันเนี้ยเทคโนโลยีตัวที่เราจะมาคุยกันน่ะมันก็จะมีสปีดทรูเท็กซ์นะคะที่เราที่ทางเอ่อทางทีมคุณณัฐเนี่ยสนใจนะคะในการทําพวกแบบถอดเสียงออกมาในมีตติ้งต่างต่างนะคะโอเคเดี๋ยวยังไงให้คุณโมสต์เขาอธิบายนะคะสไลด์ของตัวสปีดทูเท็กซ์เลยนะคะเพราะว่าเป็นเทคนิคอลล่ะ\n",
      "โอเคครับสําหรับสปีดทูเทคเนอะสปีดทูเทคก็คือเป็นเทคโนโลยีที่เราจะแปลงจากเสียงเนี่ยหรือว่าออดิโออะครับเป็นเท็กซ์นะครับก็คือเป็นตัวอักษรเนาะทีเนี้ยเราก็เอาไปใช้ในหลากหลายอย่างเลยอย่างเช่นการทําไวท์บอร์ดหรือว่าการเอาไปทําเป็น\n",
      "ซามูไรพวกการประชุมนะครับก็คืออย่างเช่นลิสต์ทรานส์สคริปชั่นฟอร์ออนไลน์มีตติ้งหรือว่าทําไปเป็นออดิโอล็อกเพื่อเอาไปใช้กับล็อกอย่างเช่นไวท์บอทในการทวงหนี้หรือว่าอะไรเงี้ยครับโดยที่เจ้าตัวสปีดทูเทคเนี่ยมันก็จะมีฟีเจอร์ต่างต่างเนาะอย่างที่สนใจเนี่ยก็อย่างเช่นไดไลเซชั่นเนาะเราสามารถที่จะนอกจากที่จะถอดเป็นเทคออกมาแล้วเนี่ยเราสามารถที่จะบอกได้ว่าเอ๊ยตรงช่วงเวลาเนี้ยใครเป็นคนพูดเนาะก็เป็นสติกเกอร์หนึ่งสติ๊กเกอร์สองเนาะทีเนี้ยเราก็จะมีตัวอย่างเด\n",
      "เล็กเล็กน้อยน้อยที่จะโชว์ข้างหลังนะครับเป็นresouseแล้วก็ custom ไปทําอย่างอื่นได้เนาะอย่างกับอ่ะอย่างเช่นเราสามารถแล้วเนี่ยเราก็เอาไปทําเป็นการสรุปประชุมก็คือการsmiles call หรือว่าการanalyticsต่างต่างอย่างเช่นsententanalysentimentarriticหรือว่าเช็ค topic เนาะว่าเราคุยกันใน topic อะไรอะครับ\n",
      "ค่ะครับอย่างในรูปเนี้ยครับอันเนี้ยคือเป็นเจ้าตัวกราฟเนี่ยอะไรเซสชั่นที่เราเคยทํามาเนาะมันก็จะเป็นในแกน\n",
      "เนี่ยก็คือเป็นช่วงเวลาเนาะอย่างเช่นที่เวลาที่วินาทีที่ 10 ถึงวินาทีที่ 15 เนี่ยมีสปีกเกอร์ไหนพูดอยู่บ้างอะครับอันเนี้ยก็คือเป็นสิ่งที่เราเคยทํามาเนาะร่วมกับการทํา speed to tech ครับเป็นฟังก์ชัน\n",
      "ใช่ค่ะก็คืออย่างตอนเนี้ยเราก็ไม้ apply ก่อนที่เราทํากับตัวwasbodเนาะที่ที่ was bot เราอะมันเสียงมันอ่าถอดเสียงเอ่อเป็น text locksในที่เคยเห็นน่ะค่ะที่มันแม่นแม่นอะก็คือเราก็พัฒนาจากตัวเนี่ยนี่แหละก็คือเป็น spread to text แล้วก็จะมีเทคทูสปีชก็คือเป็\n"
     ]
    }
   ],
   "source": [
    "from docx import Document\n",
    "\n",
    "def read_docx(file_path):\n",
    "    doc = Document(file_path)\n",
    "    text = \"\\n\".join([para.text for para in doc.paragraphs])\n",
    "    return text\n",
    "\n",
    "file_path = \"Voice Extraction to MoM.docx\"  # Replace with your actual file path\n",
    "doc_text = read_docx(file_path)\n",
    "doc_text=doc_text[:5000]\n",
    "print(doc_text)  # Check extracted text\n",
    "# print(type(doc_text))"
   ]
  },
  {
   "cell_type": "code",
   "execution_count": 7,
   "metadata": {},
   "outputs": [],
   "source": [
    "import os\n",
    "from azure.ai.inference import ChatCompletionsClient\n",
    "from azure.ai.inference.models import SystemMessage, UserMessage\n",
    "from azure.core.credentials import AzureKeyCredential\n",
    "import json\n",
    "from langchain.prompts import ChatPromptTemplate\n",
    "from langchain.chat_models import AzureChatOpenAI #ต้องเป็นAzureChatOpenAI\n",
    "from langchain.chains import LLMChain\n",
    "from langchain.schema.output_parser import StrOutputParser\n",
    "from langchain.agents.output_parsers import OpenAIFunctionsAgentOutputParser"
   ]
  },
  {
   "cell_type": "code",
   "execution_count": 12,
   "metadata": {},
   "outputs": [
    {
     "name": "stderr",
     "output_type": "stream",
     "text": [
      "/Library/Frameworks/Python.framework/Versions/3.11/lib/python3.11/site-packages/langchain_community/chat_models/azure_openai.py:174: UserWarning: As of openai>=1.0.0, Azure endpoints should be specified via the `azure_endpoint` param not `openai_api_base` (or alias `base_url`). Updating `openai_api_base` from https://models.inference.ai.azure.com to https://models.inference.ai.azure.com/openai.\n",
      "  warnings.warn(\n"
     ]
    }
   ],
   "source": [
    "endpoint = \"https://models.inference.ai.azure.com\"\n",
    "model_name = \"gpt-4o-mini\"\n",
    "token = os.environ[\"GITHUB_TOKEN\"]\n",
    "\n",
    "model = AzureChatOpenAI(\n",
    "    openai_api_key=token,\n",
    "    openai_api_base=endpoint,\n",
    "    model=model_name,\n",
    "    openai_api_version=\"2023-03-15-preview\",\n",
    "    temperature=0\n",
    ")\n",
    "\n",
    "prompt = ChatPromptTemplate.from_messages([\n",
    "    (\"system\", \"You are helpful but sassy assistant\"),\n",
    "    (\"user\", \"{input}, context: {doc_text}\"),\n",
    "])\n",
    "\n",
    "formatted_prompt = prompt.format(input=\"สรุปสิ่งที่ kanyarat พูดในการประชุม\", doc_text=doc_text)\n",
    "\n",
    "chain = prompt | model | OpenAIFunctionsAgentOutputParser()\n",
    "\n",
    "result = chain.invoke({\"input\": \"สรุปสิ่งที่ kanyarat พูดในการประชุม\", \"doc_text\": doc_text})\n"
   ]
  },
  {
   "cell_type": "code",
   "execution_count": 27,
   "metadata": {},
   "outputs": [
    {
     "data": {
      "text/markdown": [
       "โอเคค่ะ! มาสรุปกันหน่อยว่า Kanyarat พูดอะไรในการประชุมนี้บ้าง:\n",
       "\n",
       "1. **การแนะนำทีม**: Kanyarat เริ่มต้นด้วยการแนะนำทีมที่เกี่ยวข้องกับโปรเจกต์ต่าง ๆ เช่น ทีม Uniqal ที่ดูแลเรื่องไลเซนส์และการแปลงเสียงเป็นข้อความ (voice to text) และสอบถามว่าทีม LHK ได้รับข้อมูลเกี่ยวกับบริษัท Bot Company หรือยัง\n",
       "\n",
       "2. **การนำเสนอเทคโนโลยี**: เธอได้พูดถึงเทคโนโลยีที่บริษัทกำลังพัฒนา โดยมีการนำเสนอใน 4 หัวข้อหลัก ได้แก่ เทคโนโลยี, โปรไฟล์บริษัท, ตัวอย่างผลลัพธ์ (sample result) และจุดขายของผลิตภัณฑ์\n",
       "\n",
       "3. **ประวัติและพัฒนาการ**: Kanyarat กล่าวถึงประวัติของบริษัทที่เริ่มจากการทำแชทบอทและพัฒนามาเป็นการใช้ AI และโมเดลต่าง ๆ เพื่อพัฒนาผลิตภัณฑ์ให้มีคุณภาพสูงขึ้น\n",
       "\n",
       "4. **ลูกค้าและการใช้งาน**: เธอได้พูดถึงกลุ่มลูกค้าที่ใช้บริการของบริษัท เช่น โรงพยาบาล, ธนาคาร, และหน่วยงานรัฐบาล รวมถึงการพัฒนา Voice Bot ที่กำลังทำอยู่\n",
       "\n",
       "5. **เทคโนโลยีที่ใช้**: Kanyarat อธิบายเกี่ยวกับเทคโนโลยีที่บริษัทใช้ เช่น AI สำหรับ Voice Bot และ Speed to Text ซึ่งเป็นเทคโนโลยีที่แปลงเสียงเป็นข้อความ\n",
       "\n",
       "6. **การสาธิต**: เธอได้กล่าวถึงการสาธิตการใช้ Speed to Text ในการประชุมต่าง ๆ และการวิเคราะห์ข้อมูลที่ได้จากการประชุม\n",
       "\n",
       "7. **การพัฒนาและการปรับปรุง**: Kanyarat เน้นย้ำถึงการพัฒนาและการปรับปรุงเทคโนโลยีอย่างต่อเนื่องเพื่อให้สามารถตอบสนองความต้องการของลูกค้าได้ดียิ่งขึ้น\n",
       "\n",
       "สรุปแล้ว Kanyarat ดูเหมือนจะมีความมั่นใจในเทคโนโลยีและผลิตภัณฑ์ของบริษัท และเธอก็มีการวางแผนที่ชัดเจนในการนำเสนอข้อมูลให้กับทีมงานค่ะ!"
      ],
      "text/plain": [
       "<IPython.core.display.Markdown object>"
      ]
     },
     "metadata": {},
     "output_type": "display_data"
    }
   ],
   "source": [
    "from IPython.display import display, Markdown\n",
    "ReturningText=result.return_values['output']\n",
    "display(Markdown(ReturningText))"
   ]
  }
 ],
 "metadata": {
  "kernelspec": {
   "display_name": "Python 3",
   "language": "python",
   "name": "python3"
  },
  "language_info": {
   "codemirror_mode": {
    "name": "ipython",
    "version": 3
   },
   "file_extension": ".py",
   "mimetype": "text/x-python",
   "name": "python",
   "nbconvert_exporter": "python",
   "pygments_lexer": "ipython3",
   "version": "3.11.4"
  }
 },
 "nbformat": 4,
 "nbformat_minor": 2
}
